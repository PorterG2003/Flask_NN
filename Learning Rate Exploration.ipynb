{
 "cells": [
  {
   "cell_type": "code",
   "execution_count": 1,
   "id": "9a523d0b",
   "metadata": {},
   "outputs": [],
   "source": [
    "from mlxtend.data import loadlocal_mnist\n",
    "import platform\n",
    "import numpy as np\n",
    "from nn import NeuralNet as NN\n",
    "from trainer import Trainer"
   ]
  },
  {
   "cell_type": "code",
   "execution_count": 2,
   "id": "251f75f5",
   "metadata": {},
   "outputs": [],
   "source": [
    "#Load Data\n",
    "if not platform.system() == 'Windows':\n",
    "    train_X, train_y = loadlocal_mnist(\n",
    "            images_path='database/train-images-idx3-ubyte', \n",
    "            labels_path='database/train-labels-idx1-ubyte')\n",
    "    test_X, test_y = loadlocal_mnist(\n",
    "            images_path='database/t10k-images-idx3-ubyte', \n",
    "            labels_path='database/t10k-labels-idx1-ubyte')\n",
    "\n",
    "else:\n",
    "    train_X, train_y = loadlocal_mnist(\n",
    "            images_path='database/rain-images.idx3-ubyte', \n",
    "            labels_path='database/train-labels.idx1-ubyte')\n",
    "    test_X, test_y = loadlocal_mnist(\n",
    "            images_path='database/t10k-images.idx3-ubyte', \n",
    "            labels_path='database/t10k-labels.idx1-ubyte')\n",
    "\n",
    "# Format labels from decimal to one hot encoded\n",
    "train_y_formatted = []\n",
    "test_y_formatted = []\n",
    "for l in train_y:\n",
    "    ni = [0,0,0,0,0,0,0,0,0,0]\n",
    "    ni[l] = 1\n",
    "    train_y_formatted.append(ni)\n",
    "for l in test_y:\n",
    "    ni = [0,0,0,0,0,0,0,0,0,0]\n",
    "    ni[l] = 1\n",
    "    test_y_formatted.append(ni)"
   ]
  },
  {
   "cell_type": "code",
   "execution_count": 3,
   "id": "9815a88c",
   "metadata": {},
   "outputs": [],
   "source": [
    "nn = NN(train_X, train_y_formatted, test_X, test_y_formatted)\n",
    "trainer = Trainer(nn=nn)"
   ]
  },
  {
   "cell_type": "code",
   "execution_count": 4,
   "id": "02600471",
   "metadata": {},
   "outputs": [
    {
     "name": "stderr",
     "output_type": "stream",
     "text": [
      "INFO - \n",
      "Beginning Stochastic Gradient Descent...\n",
      "INFO - Learning Rate: 1e-05\n",
      "INFO - Time to calculate initial cross entropy loss: 0.311748743057251\n",
      "/Users/porter/Documents/Projects/ML/MNIST/nn.py:556: RuntimeWarning: underflow encountered in multiply\n",
      "  self.W3 = self.W3 - rate * w3_grad\n",
      "/Users/porter/Documents/Projects/ML/MNIST/nn.py:558: RuntimeWarning: underflow encountered in multiply\n",
      "  self.W2 = self.W2 - rate * w2_grad\n",
      "INFO - epoch: 0\n",
      "\tcross entropy loss: 1.0472890122185843\n",
      "\tratio: 1.0\n",
      "\tTime: 7.118659019470215\n",
      "INFO - epoch: 1\n",
      "\tcross entropy loss: 1.047288409585763\n",
      "\tratio: 0.9999994245783025\n",
      "\tTime: 7.0088300704956055\n",
      "INFO - epoch: 2\n",
      "\tcross entropy loss: 1.047288329898174\n",
      "\tratio: 0.9999999239105597\n",
      "\tTime: 7.030318737030029\n",
      "INFO - \n",
      "Beginning Stochastic Gradient Descent...\n",
      "INFO - Learning Rate: 2e-05\n",
      "INFO - Time to calculate initial cross entropy loss: 0.30854201316833496\n",
      "/Users/porter/Documents/Projects/ML/MNIST/nn.py:558: RuntimeWarning: underflow encountered in multiply\n",
      "  self.W2 = self.W2 - rate * w2_grad\n",
      "INFO - epoch: 0\n",
      "\tcross entropy loss: 1.0090692469729343\n",
      "\tratio: 1.0\n",
      "\tTime: 7.024193048477173\n"
     ]
    },
    {
     "name": "stdout",
     "output_type": "stream",
     "text": [
      "np.exp(z[i][j]) resulted in underflow \n",
      "z[i][j]: -4.447245357582341e+165\n"
     ]
    },
    {
     "ename": "FloatingPointError",
     "evalue": "underflow encountered in scalar multiply",
     "output_type": "error",
     "traceback": [
      "\u001b[0;31m---------------------------------------------------------------------------\u001b[0m",
      "\u001b[0;31mFloatingPointError\u001b[0m                        Traceback (most recent call last)",
      "Cell \u001b[0;32mIn[4], line 8\u001b[0m\n\u001b[1;32m      6\u001b[0m nn \u001b[38;5;241m=\u001b[39m NN(train_X, train_y_formatted, test_X, test_y_formatted)\n\u001b[1;32m      7\u001b[0m trainer \u001b[38;5;241m=\u001b[39m Trainer(nn\u001b[38;5;241m=\u001b[39mnn)\n\u001b[0;32m----> 8\u001b[0m csvs\u001b[38;5;241m.\u001b[39mappend(\u001b[43mtrainer\u001b[49m\u001b[38;5;241;43m.\u001b[39;49m\u001b[43mSGD\u001b[49m\u001b[43m(\u001b[49m\u001b[43mlearning_rate\u001b[49m\u001b[38;5;241;43m=\u001b[39;49m\u001b[43mlearning_rate\u001b[49m\u001b[43m,\u001b[49m\u001b[43m \u001b[49m\u001b[43mto_csv\u001b[49m\u001b[38;5;241;43m=\u001b[39;49m\u001b[38;5;28;43;01mTrue\u001b[39;49;00m\u001b[43m)\u001b[49m)\n\u001b[1;32m      9\u001b[0m learning_rate \u001b[38;5;241m*\u001b[39m\u001b[38;5;241m=\u001b[39m \u001b[38;5;241m2\u001b[39m\n\u001b[1;32m     10\u001b[0m successful \u001b[38;5;241m=\u001b[39m \u001b[38;5;28;01mTrue\u001b[39;00m\n",
      "File \u001b[0;32m~/Documents/Projects/ML/MNIST/trainer.py:113\u001b[0m, in \u001b[0;36mTrainer.SGD\u001b[0;34m(self, batch_size, learning_rate, to_csv)\u001b[0m\n\u001b[1;32m    110\u001b[0m     \u001b[38;5;28;01mreturn\u001b[39;00m\n\u001b[1;32m    112\u001b[0m t1 \u001b[38;5;241m=\u001b[39m time\u001b[38;5;241m.\u001b[39mtime()\n\u001b[0;32m--> 113\u001b[0m \u001b[38;5;28;01mif\u001b[39;00m \u001b[43mnn\u001b[49m\u001b[38;5;241;43m.\u001b[39;49m\u001b[43mbackPropagation\u001b[49m\u001b[43m(\u001b[49m\u001b[43mrate\u001b[49m\u001b[38;5;241;43m=\u001b[39;49m\u001b[43mlearning_rate\u001b[49m\u001b[43m,\u001b[49m\u001b[43m \u001b[49m\u001b[43mindices\u001b[49m\u001b[38;5;241;43m=\u001b[39;49m\u001b[43mindices\u001b[49m\u001b[43m)\u001b[49m \u001b[38;5;241m==\u001b[39m \u001b[38;5;167;01mValueError\u001b[39;00m:\n\u001b[1;32m    114\u001b[0m     cur_epoch \u001b[38;5;241m=\u001b[39m np\u001b[38;5;241m.\u001b[39mmean(nn\u001b[38;5;241m.\u001b[39mcrossEntropyLoss())\n\u001b[1;32m    115\u001b[0m     \u001b[38;5;28;01mif\u001b[39;00m cur_epoch \u001b[38;5;241m<\u001b[39m prev_epoch:\n",
      "File \u001b[0;32m~/Documents/Projects/ML/MNIST/nn.py:537\u001b[0m, in \u001b[0;36mNeuralNet.backPropagation\u001b[0;34m(self, rate, indices)\u001b[0m\n\u001b[1;32m    533\u001b[0m \u001b[38;5;28mself\u001b[39m\u001b[38;5;241m.\u001b[39mforward(\u001b[38;5;28mself\u001b[39m\u001b[38;5;241m.\u001b[39mX)\n\u001b[1;32m    535\u001b[0m \u001b[38;5;28;01mtry\u001b[39;00m:\n\u001b[1;32m    536\u001b[0m     \u001b[38;5;66;03m# calculate gradients\u001b[39;00m\n\u001b[0;32m--> 537\u001b[0m     w3_grad \u001b[38;5;241m=\u001b[39m \u001b[38;5;28;43mself\u001b[39;49m\u001b[38;5;241;43m.\u001b[39;49m\u001b[43mcalculate_gradient_average\u001b[49m\u001b[43m(\u001b[49m\u001b[38;5;28;43mself\u001b[39;49m\u001b[38;5;241;43m.\u001b[39;49m\u001b[43mW3\u001b[49m\u001b[43m,\u001b[49m\u001b[43m \u001b[49m\u001b[38;5;28;43mself\u001b[39;49m\u001b[38;5;241;43m.\u001b[39;49m\u001b[43mcalculate_dCdW3\u001b[49m\u001b[43m,\u001b[49m\u001b[43m \u001b[49m\u001b[43mindices\u001b[49m\u001b[38;5;241;43m=\u001b[39;49m\u001b[43mindices\u001b[49m\u001b[43m)\u001b[49m\n\u001b[1;32m    538\u001b[0m     b3_grad \u001b[38;5;241m=\u001b[39m \u001b[38;5;28mself\u001b[39m\u001b[38;5;241m.\u001b[39mcalculate_gradient_average(\u001b[38;5;28mself\u001b[39m\u001b[38;5;241m.\u001b[39mB3, \u001b[38;5;28mself\u001b[39m\u001b[38;5;241m.\u001b[39mcalculate_dCdB3, indices\u001b[38;5;241m=\u001b[39mindices)\n\u001b[1;32m    539\u001b[0m     w2_grad \u001b[38;5;241m=\u001b[39m \u001b[38;5;28mself\u001b[39m\u001b[38;5;241m.\u001b[39mcalculate_gradient_average(\u001b[38;5;28mself\u001b[39m\u001b[38;5;241m.\u001b[39mW2, \u001b[38;5;28mself\u001b[39m\u001b[38;5;241m.\u001b[39mcalculate_dCdW2, indices\u001b[38;5;241m=\u001b[39mindices)\n",
      "File \u001b[0;32m~/Documents/Projects/ML/MNIST/nn.py:417\u001b[0m, in \u001b[0;36mNeuralNet.calculate_gradient_average\u001b[0;34m(self, array, calc_function, indices)\u001b[0m\n\u001b[1;32m    414\u001b[0m t1 \u001b[38;5;241m=\u001b[39m time\u001b[38;5;241m.\u001b[39mtime()\n\u001b[1;32m    415\u001b[0m \u001b[38;5;28;01mfor\u001b[39;00m i \u001b[38;5;129;01min\u001b[39;00m indices:\n\u001b[1;32m    416\u001b[0m     \u001b[38;5;66;03m#np.append(total, self.calculate_dCdW3_quick(i))\u001b[39;00m\n\u001b[0;32m--> 417\u001b[0m     np\u001b[38;5;241m.\u001b[39mappend(total, \u001b[43mcalc_function\u001b[49m\u001b[43m(\u001b[49m\u001b[43mi\u001b[49m\u001b[43m)\u001b[49m)\n\u001b[1;32m    419\u001b[0m \u001b[38;5;66;03m#calculate average\u001b[39;00m\n\u001b[1;32m    420\u001b[0m average \u001b[38;5;241m=\u001b[39m np\u001b[38;5;241m.\u001b[39maverage(total, axis\u001b[38;5;241m=\u001b[39m\u001b[38;5;241m0\u001b[39m)\n",
      "File \u001b[0;32m~/Documents/Projects/ML/MNIST/nn.py:388\u001b[0m, in \u001b[0;36mNeuralNet.calculate_dCdW3\u001b[0;34m(self, instance)\u001b[0m\n\u001b[1;32m    384\u001b[0m \u001b[38;5;28;01mdef\u001b[39;00m \u001b[38;5;21mcalculate_dCdW3\u001b[39m(\u001b[38;5;28mself\u001b[39m, instance):\n\u001b[1;32m    385\u001b[0m \n\u001b[1;32m    386\u001b[0m     \u001b[38;5;66;03m#compute jacobians\u001b[39;00m\n\u001b[1;32m    387\u001b[0m     d1 \u001b[38;5;241m=\u001b[39m \u001b[38;5;28mself\u001b[39m\u001b[38;5;241m.\u001b[39mcalculate_dCdyhat(instance)\n\u001b[0;32m--> 388\u001b[0m     d2 \u001b[38;5;241m=\u001b[39m \u001b[38;5;28;43mself\u001b[39;49m\u001b[38;5;241;43m.\u001b[39;49m\u001b[43mcalculate_dyhatdZ4\u001b[49m\u001b[43m(\u001b[49m\u001b[43minstance\u001b[49m\u001b[43m)\u001b[49m\n\u001b[1;32m    389\u001b[0m     d3 \u001b[38;5;241m=\u001b[39m \u001b[38;5;28mself\u001b[39m\u001b[38;5;241m.\u001b[39mcalculate_dZ4dW3(instance)\n\u001b[1;32m    391\u001b[0m     \u001b[38;5;66;03m#dot jacobians together\u001b[39;00m\n",
      "File \u001b[0;32m~/Documents/Projects/ML/MNIST/nn.py:353\u001b[0m, in \u001b[0;36mNeuralNet.calculate_dyhatdZ4\u001b[0;34m(self, instance)\u001b[0m\n\u001b[1;32m    351\u001b[0m             jac[i][j] \u001b[38;5;241m=\u001b[39m softmax_Z4[i]\u001b[38;5;241m*\u001b[39m(\u001b[38;5;241m1\u001b[39m\u001b[38;5;241m-\u001b[39msoftmax_Z4[j])\n\u001b[1;32m    352\u001b[0m         \u001b[38;5;28;01melse\u001b[39;00m:\n\u001b[0;32m--> 353\u001b[0m             jac[i][j] \u001b[38;5;241m=\u001b[39m \u001b[38;5;241;43m-\u001b[39;49m\u001b[43msoftmax_Z4\u001b[49m\u001b[43m[\u001b[49m\u001b[43mj\u001b[49m\u001b[43m]\u001b[49m\u001b[38;5;241;43m*\u001b[39;49m\u001b[43msoftmax_Z4\u001b[49m\u001b[43m[\u001b[49m\u001b[43mi\u001b[49m\u001b[43m]\u001b[49m\n\u001b[1;32m    355\u001b[0m \u001b[38;5;28;01mreturn\u001b[39;00m jac\n",
      "\u001b[0;31mFloatingPointError\u001b[0m: underflow encountered in scalar multiply"
     ]
    }
   ],
   "source": [
    "learning_rate = .00001\n",
    "csvs = []\n",
    "\n",
    "while learning_rate < 10:\n",
    "    successful = False\n",
    "    nn = NN(train_X, train_y_formatted, test_X, test_y_formatted)\n",
    "    trainer = Trainer(nn=nn)\n",
    "    csvs.append(trainer.SGD(learning_rate=learning_rate, to_csv=True))\n",
    "    learning_rate *= 2\n",
    "    successful = True"
   ]
  },
  {
   "cell_type": "raw",
   "id": "fdd7d9ee",
   "metadata": {},
   "source": []
  }
 ],
 "metadata": {
  "kernelspec": {
   "display_name": "Python 3 (ipykernel)",
   "language": "python",
   "name": "python3"
  },
  "language_info": {
   "codemirror_mode": {
    "name": "ipython",
    "version": 3
   },
   "file_extension": ".py",
   "mimetype": "text/x-python",
   "name": "python",
   "nbconvert_exporter": "python",
   "pygments_lexer": "ipython3",
   "version": "3.10.10"
  }
 },
 "nbformat": 4,
 "nbformat_minor": 5
}
